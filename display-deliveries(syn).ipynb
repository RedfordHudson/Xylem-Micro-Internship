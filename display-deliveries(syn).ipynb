{
 "cells": [
  {
   "cell_type": "markdown",
   "metadata": {},
   "source": [
    "INSTRUCTIONS\n",
    "\n",
    "1. open file in Jupyter Notebook\n",
    "2. put (updated) excel sheet in script directory and store name of file in \"excel_sheet\" variable\n",
    "3. install packages in terminal ('pip install pandas plotly')\n",
    "4. store list of desired items in \"items\" variable\n",
    "5. run displayDeliveries(array)"
   ]
  },
  {
   "cell_type": "code",
   "execution_count": 16,
   "metadata": {},
   "outputs": [],
   "source": [
    "# excel_input = 'Romania 2017-2022.xlsx'\n",
    "excel_input = 'output.xlsx'\n",
    "items = ['ANELLO TEN INTERNO 45X62X8 NBR','KIT SEAL CRANE D16 21-10K55']"
   ]
  },
  {
   "cell_type": "code",
   "execution_count": 2,
   "metadata": {},
   "outputs": [],
   "source": [
    "import pandas as pd\n",
    "import plotly.graph_objects as go"
   ]
  },
  {
   "cell_type": "code",
   "execution_count": 8,
   "metadata": {},
   "outputs": [],
   "source": [
    "df = pd.read_excel(excel_input)"
   ]
  },
  {
   "cell_type": "code",
   "execution_count": 29,
   "metadata": {},
   "outputs": [],
   "source": [
    "def getDeliveries(items):\n",
    "    queryStr = ' or '.join([\"ItemName == '{item}'\".format(item=item) for item in items])\n",
    "    deliveries = df.query(queryStr)[['ItemName','Del.Addr','OrdQty','City','lat','lng']].reset_index()\n",
    "\n",
    "    for row in range(deliveries.shape[0]):\n",
    "        delivery = deliveries.iloc()[row]\n",
    "\n",
    "        deliveries.at[row,'text'] = 'Item: {item}<br>City: {city}<br>Volume: {qty}'.format(\n",
    "                            item=delivery['ItemName'],\n",
    "                            city=delivery['City'],\n",
    "                            qty=delivery['OrdQty'])\n",
    "    return deliveries\n",
    "\n",
    "def getGeoObj(df,item,index):\n",
    "    minQty = min(df['OrdQty'].tolist()) if df.shape[0] else 0\n",
    "    maxQty = max(df['OrdQty'].tolist()) if df.shape[0] else 0\n",
    "\n",
    "    deliveries = df.query(\"ItemName == '{item}'\".format(item=item))\n",
    "        \n",
    "    geoObj = go.Scattergeo(\n",
    "        lon = deliveries['lng'],\n",
    "        lat = deliveries['lat'],\n",
    "        text = deliveries['text'],\n",
    "        mode = 'markers',\n",
    "        marker = dict(\n",
    "            color = deliveries['OrdQty'],\n",
    "            colorscale = ['red','blue'],\n",
    "            cauto = False,\n",
    "            autocolorscale = False,\n",
    "            cmin = minQty,\n",
    "            cmax = maxQty,\n",
    "            colorbar = None if index > 0 else dict(\n",
    "                title = 'Volume',\n",
    "                titleside = 'top',\n",
    "                tickmode = 'array',\n",
    "            )\n",
    "        )\n",
    "    )\n",
    "\n",
    "    geoObj['marker_symbol'] = symbols[index%len(symbols)]\n",
    "    geoObj['name'] = item\n",
    "\n",
    "    return geoObj\n",
    "\n",
    "def displayDeliveries(items):\n",
    "    deliveries = getDeliveries(items)\n",
    "\n",
    "    fig = go.Figure(data=[getGeoObj(deliveries,item,index) for index,item in enumerate(items)])\n",
    "\n",
    "    fig.update_geos(\n",
    "        lataxis_range=[43, 49],\n",
    "        lonaxis_range=[20, 30],\n",
    "    )\n",
    "\n",
    "    title = 'Delivery Locations for '\n",
    "    title += '{amount} items'.format(amount=len(items)) if len(items) > 1 else items[0]\n",
    "\n",
    "    fig.update_layout(\n",
    "        title=title,\n",
    "        geo_scope='europe',\n",
    "        legend=dict(\n",
    "            yanchor=\"top\",\n",
    "            y=0.99,\n",
    "            xanchor=\"left\",\n",
    "            x=-1\n",
    "        )\n",
    "    )\n",
    "\n",
    "    fig.show()"
   ]
  },
  {
   "cell_type": "code",
   "execution_count": 17,
   "metadata": {},
   "outputs": [],
   "source": [
    "# items = list(set(df['ItemName'].head(100)))\n",
    "symbols = ['circle','square','diamond','cross','x','triangle-up',\n",
    "    'triangle-down','triangle-left','triangle-right']"
   ]
  },
  {
   "cell_type": "code",
   "execution_count": 32,
   "metadata": {},
   "outputs": [
    {
     "data": {
      "application/vnd.plotly.v1+json": {
       "config": {
        "plotlyServerURL": "https://plot.ly"
       },
       "data": [
        {
         "lat": [
          44.4194867
         ],
         "lon": [
          26.0795246
         ],
         "marker": {
          "autocolorscale": false,
          "cauto": false,
          "cmax": 5,
          "cmin": -1,
          "color": [
           -1
          ],
          "colorbar": {
           "tickmode": "array",
           "title": {
            "side": "top",
            "text": "Volume"
           }
          },
          "colorscale": [
           [
            0,
            "red"
           ],
           [
            1,
            "blue"
           ]
          ],
          "symbol": "circle"
         },
         "mode": "markers",
         "name": "ROOF ASSEMBLY      SERIES54-27368-9913",
         "text": [
          "Item: ROOF ASSEMBLY      SERIES54-27368-9913<br>City: București<br>Volume: -1"
         ],
         "type": "scattergeo"
        },
        {
         "lat": [
          44.4721017
         ],
         "lon": [
          26.1475816
         ],
         "marker": {
          "autocolorscale": false,
          "cauto": false,
          "cmax": 5,
          "cmin": -1,
          "color": [
           5
          ],
          "colorscale": [
           [
            0,
            "red"
           ],
           [
            1,
            "blue"
           ]
          ],
          "symbol": "square"
         },
         "mode": "markers",
         "name": "LAUFR 43MP1-17*170 4408 ",
         "text": [
          "Item: LAUFR 43MP1-17*170 4408 <br>City: București<br>Volume: 5"
         ],
         "type": "scattergeo"
        },
        {
         "lat": [
          44.4926878
         ],
         "lon": [
          26.0525203
         ],
         "marker": {
          "autocolorscale": false,
          "cauto": false,
          "cmax": 5,
          "cmin": -1,
          "color": [
           1
          ],
          "colorscale": [
           [
            0,
            "red"
           ],
           [
            1,
            "blue"
           ]
          ],
          "symbol": "diamond"
         },
         "mode": "markers",
         "name": "INSTALLATION KIT ",
         "text": [
          "Item: INSTALLATION KIT <br>City: București<br>Volume: 1"
         ],
         "type": "scattergeo"
        },
        {
         "lat": [
          45.7480306
         ],
         "lon": [
          21.2497787
         ],
         "marker": {
          "autocolorscale": false,
          "cauto": false,
          "cmax": 5,
          "cmin": -1,
          "color": [
           1
          ],
          "colorscale": [
           [
            0,
            "red"
           ],
           [
            1,
            "blue"
           ]
          ],
          "symbol": "cross"
         },
         "mode": "markers",
         "name": "IMPELLER WITH FREEZEPROTECTION",
         "text": [
          "Item: IMPELLER WITH FREEZEPROTECTION<br>City: Timișoara<br>Volume: 1"
         ],
         "type": "scattergeo"
        },
        {
         "lat": [
          44.4721017
         ],
         "lon": [
          26.1475816
         ],
         "marker": {
          "autocolorscale": false,
          "cauto": false,
          "cmax": 5,
          "cmin": -1,
          "color": [
           2
          ],
          "colorscale": [
           [
            0,
            "red"
           ],
           [
            1,
            "blue"
           ]
          ],
          "symbol": "x"
         },
         "mode": "markers",
         "name": "IXPC200-150-200A150-45BDN2S1G",
         "text": [
          "Item: IXPC200-150-200A150-45BDN2S1G<br>City: București<br>Volume: 2"
         ],
         "type": "scattergeo"
        },
        {
         "lat": [
          44.4721017
         ],
         "lon": [
          26.1475816
         ],
         "marker": {
          "autocolorscale": false,
          "cauto": false,
          "cmax": 5,
          "cmin": -1,
          "color": [
           1
          ],
          "colorscale": [
           [
            0,
            "red"
           ],
           [
            1,
            "blue"
           ]
          ],
          "symbol": "triangle-up"
         },
         "mode": "markers",
         "name": "LAUFR 100IC1-200*192 6025 ",
         "text": [
          "Item: LAUFR 100IC1-200*192 6025 <br>City: București<br>Volume: 1"
         ],
         "type": "scattergeo"
        },
        {
         "lat": [
          44.4194867
         ],
         "lon": [
          26.0795246
         ],
         "marker": {
          "autocolorscale": false,
          "cauto": false,
          "cmax": 5,
          "cmin": -1,
          "color": [
           -1
          ],
          "colorscale": [
           [
            0,
            "red"
           ],
           [
            1,
            "blue"
           ]
          ],
          "symbol": "triangle-down"
         },
         "mode": "markers",
         "name": "PANEL PUMP CONTROL46-15105-9912",
         "text": [
          "Item: PANEL PUMP CONTROL46-15105-9912<br>City: București<br>Volume: -1"
         ],
         "type": "scattergeo"
        },
        {
         "lat": [
          44.4721017
         ],
         "lon": [
          26.1475816
         ],
         "marker": {
          "autocolorscale": false,
          "cauto": false,
          "cmax": 5,
          "cmin": -1,
          "color": [
           2
          ],
          "colorscale": [
           [
            0,
            "red"
           ],
           [
            1,
            "blue"
           ]
          ],
          "symbol": "triangle-left"
         },
         "mode": "markers",
         "name": "15HM07S55T5TVBE ELP 29/50290-300/500-525 50",
         "text": [
          "Item: 15HM07S55T5TVBE ELP 29/50290-300/500-525 50<br>City: București<br>Volume: 2"
         ],
         "type": "scattergeo"
        },
        {
         "lat": [
          44.4926878
         ],
         "lon": [
          26.0525203
         ],
         "marker": {
          "autocolorscale": false,
          "cauto": false,
          "cmax": 5,
          "cmin": -1,
          "color": [
           1
          ],
          "colorscale": [
           [
            0,
            "red"
           ],
           [
            1,
            "blue"
           ]
          ],
          "symbol": "triangle-right"
         },
         "mode": "markers",
         "name": "CEA210/5/D         ELP 23 ",
         "text": [
          "Item: CEA210/5/D         ELP 23 <br>City: București<br>Volume: 1"
         ],
         "type": "scattergeo"
        },
        {
         "lat": [
          45.7994491
         ],
         "lon": [
          21.1824819
         ],
         "marker": {
          "autocolorscale": false,
          "cauto": false,
          "cmax": 5,
          "cmin": -1,
          "color": [
           1
          ],
          "colorscale": [
           [
            0,
            "red"
           ],
           [
            1,
            "blue"
           ]
          ],
          "symbol": "circle"
         },
         "mode": "markers",
         "name": "Control Measuring Un ",
         "text": [
          "Item: Control Measuring Un <br>City: nan<br>Volume: 1"
         ],
         "type": "scattergeo"
        }
       ],
       "layout": {
        "geo": {
         "lataxis": {
          "range": [
           43,
           49
          ]
         },
         "lonaxis": {
          "range": [
           20,
           30
          ]
         },
         "scope": "europe"
        },
        "legend": {
         "x": -1,
         "xanchor": "left",
         "y": 0.99,
         "yanchor": "top"
        },
        "template": {
         "data": {
          "bar": [
           {
            "error_x": {
             "color": "#2a3f5f"
            },
            "error_y": {
             "color": "#2a3f5f"
            },
            "marker": {
             "line": {
              "color": "#E5ECF6",
              "width": 0.5
             },
             "pattern": {
              "fillmode": "overlay",
              "size": 10,
              "solidity": 0.2
             }
            },
            "type": "bar"
           }
          ],
          "barpolar": [
           {
            "marker": {
             "line": {
              "color": "#E5ECF6",
              "width": 0.5
             },
             "pattern": {
              "fillmode": "overlay",
              "size": 10,
              "solidity": 0.2
             }
            },
            "type": "barpolar"
           }
          ],
          "carpet": [
           {
            "aaxis": {
             "endlinecolor": "#2a3f5f",
             "gridcolor": "white",
             "linecolor": "white",
             "minorgridcolor": "white",
             "startlinecolor": "#2a3f5f"
            },
            "baxis": {
             "endlinecolor": "#2a3f5f",
             "gridcolor": "white",
             "linecolor": "white",
             "minorgridcolor": "white",
             "startlinecolor": "#2a3f5f"
            },
            "type": "carpet"
           }
          ],
          "choropleth": [
           {
            "colorbar": {
             "outlinewidth": 0,
             "ticks": ""
            },
            "type": "choropleth"
           }
          ],
          "contour": [
           {
            "colorbar": {
             "outlinewidth": 0,
             "ticks": ""
            },
            "colorscale": [
             [
              0,
              "#0d0887"
             ],
             [
              0.1111111111111111,
              "#46039f"
             ],
             [
              0.2222222222222222,
              "#7201a8"
             ],
             [
              0.3333333333333333,
              "#9c179e"
             ],
             [
              0.4444444444444444,
              "#bd3786"
             ],
             [
              0.5555555555555556,
              "#d8576b"
             ],
             [
              0.6666666666666666,
              "#ed7953"
             ],
             [
              0.7777777777777778,
              "#fb9f3a"
             ],
             [
              0.8888888888888888,
              "#fdca26"
             ],
             [
              1,
              "#f0f921"
             ]
            ],
            "type": "contour"
           }
          ],
          "contourcarpet": [
           {
            "colorbar": {
             "outlinewidth": 0,
             "ticks": ""
            },
            "type": "contourcarpet"
           }
          ],
          "heatmap": [
           {
            "colorbar": {
             "outlinewidth": 0,
             "ticks": ""
            },
            "colorscale": [
             [
              0,
              "#0d0887"
             ],
             [
              0.1111111111111111,
              "#46039f"
             ],
             [
              0.2222222222222222,
              "#7201a8"
             ],
             [
              0.3333333333333333,
              "#9c179e"
             ],
             [
              0.4444444444444444,
              "#bd3786"
             ],
             [
              0.5555555555555556,
              "#d8576b"
             ],
             [
              0.6666666666666666,
              "#ed7953"
             ],
             [
              0.7777777777777778,
              "#fb9f3a"
             ],
             [
              0.8888888888888888,
              "#fdca26"
             ],
             [
              1,
              "#f0f921"
             ]
            ],
            "type": "heatmap"
           }
          ],
          "heatmapgl": [
           {
            "colorbar": {
             "outlinewidth": 0,
             "ticks": ""
            },
            "colorscale": [
             [
              0,
              "#0d0887"
             ],
             [
              0.1111111111111111,
              "#46039f"
             ],
             [
              0.2222222222222222,
              "#7201a8"
             ],
             [
              0.3333333333333333,
              "#9c179e"
             ],
             [
              0.4444444444444444,
              "#bd3786"
             ],
             [
              0.5555555555555556,
              "#d8576b"
             ],
             [
              0.6666666666666666,
              "#ed7953"
             ],
             [
              0.7777777777777778,
              "#fb9f3a"
             ],
             [
              0.8888888888888888,
              "#fdca26"
             ],
             [
              1,
              "#f0f921"
             ]
            ],
            "type": "heatmapgl"
           }
          ],
          "histogram": [
           {
            "marker": {
             "pattern": {
              "fillmode": "overlay",
              "size": 10,
              "solidity": 0.2
             }
            },
            "type": "histogram"
           }
          ],
          "histogram2d": [
           {
            "colorbar": {
             "outlinewidth": 0,
             "ticks": ""
            },
            "colorscale": [
             [
              0,
              "#0d0887"
             ],
             [
              0.1111111111111111,
              "#46039f"
             ],
             [
              0.2222222222222222,
              "#7201a8"
             ],
             [
              0.3333333333333333,
              "#9c179e"
             ],
             [
              0.4444444444444444,
              "#bd3786"
             ],
             [
              0.5555555555555556,
              "#d8576b"
             ],
             [
              0.6666666666666666,
              "#ed7953"
             ],
             [
              0.7777777777777778,
              "#fb9f3a"
             ],
             [
              0.8888888888888888,
              "#fdca26"
             ],
             [
              1,
              "#f0f921"
             ]
            ],
            "type": "histogram2d"
           }
          ],
          "histogram2dcontour": [
           {
            "colorbar": {
             "outlinewidth": 0,
             "ticks": ""
            },
            "colorscale": [
             [
              0,
              "#0d0887"
             ],
             [
              0.1111111111111111,
              "#46039f"
             ],
             [
              0.2222222222222222,
              "#7201a8"
             ],
             [
              0.3333333333333333,
              "#9c179e"
             ],
             [
              0.4444444444444444,
              "#bd3786"
             ],
             [
              0.5555555555555556,
              "#d8576b"
             ],
             [
              0.6666666666666666,
              "#ed7953"
             ],
             [
              0.7777777777777778,
              "#fb9f3a"
             ],
             [
              0.8888888888888888,
              "#fdca26"
             ],
             [
              1,
              "#f0f921"
             ]
            ],
            "type": "histogram2dcontour"
           }
          ],
          "mesh3d": [
           {
            "colorbar": {
             "outlinewidth": 0,
             "ticks": ""
            },
            "type": "mesh3d"
           }
          ],
          "parcoords": [
           {
            "line": {
             "colorbar": {
              "outlinewidth": 0,
              "ticks": ""
             }
            },
            "type": "parcoords"
           }
          ],
          "pie": [
           {
            "automargin": true,
            "type": "pie"
           }
          ],
          "scatter": [
           {
            "marker": {
             "colorbar": {
              "outlinewidth": 0,
              "ticks": ""
             }
            },
            "type": "scatter"
           }
          ],
          "scatter3d": [
           {
            "line": {
             "colorbar": {
              "outlinewidth": 0,
              "ticks": ""
             }
            },
            "marker": {
             "colorbar": {
              "outlinewidth": 0,
              "ticks": ""
             }
            },
            "type": "scatter3d"
           }
          ],
          "scattercarpet": [
           {
            "marker": {
             "colorbar": {
              "outlinewidth": 0,
              "ticks": ""
             }
            },
            "type": "scattercarpet"
           }
          ],
          "scattergeo": [
           {
            "marker": {
             "colorbar": {
              "outlinewidth": 0,
              "ticks": ""
             }
            },
            "type": "scattergeo"
           }
          ],
          "scattergl": [
           {
            "marker": {
             "colorbar": {
              "outlinewidth": 0,
              "ticks": ""
             }
            },
            "type": "scattergl"
           }
          ],
          "scattermapbox": [
           {
            "marker": {
             "colorbar": {
              "outlinewidth": 0,
              "ticks": ""
             }
            },
            "type": "scattermapbox"
           }
          ],
          "scatterpolar": [
           {
            "marker": {
             "colorbar": {
              "outlinewidth": 0,
              "ticks": ""
             }
            },
            "type": "scatterpolar"
           }
          ],
          "scatterpolargl": [
           {
            "marker": {
             "colorbar": {
              "outlinewidth": 0,
              "ticks": ""
             }
            },
            "type": "scatterpolargl"
           }
          ],
          "scatterternary": [
           {
            "marker": {
             "colorbar": {
              "outlinewidth": 0,
              "ticks": ""
             }
            },
            "type": "scatterternary"
           }
          ],
          "surface": [
           {
            "colorbar": {
             "outlinewidth": 0,
             "ticks": ""
            },
            "colorscale": [
             [
              0,
              "#0d0887"
             ],
             [
              0.1111111111111111,
              "#46039f"
             ],
             [
              0.2222222222222222,
              "#7201a8"
             ],
             [
              0.3333333333333333,
              "#9c179e"
             ],
             [
              0.4444444444444444,
              "#bd3786"
             ],
             [
              0.5555555555555556,
              "#d8576b"
             ],
             [
              0.6666666666666666,
              "#ed7953"
             ],
             [
              0.7777777777777778,
              "#fb9f3a"
             ],
             [
              0.8888888888888888,
              "#fdca26"
             ],
             [
              1,
              "#f0f921"
             ]
            ],
            "type": "surface"
           }
          ],
          "table": [
           {
            "cells": {
             "fill": {
              "color": "#EBF0F8"
             },
             "line": {
              "color": "white"
             }
            },
            "header": {
             "fill": {
              "color": "#C8D4E3"
             },
             "line": {
              "color": "white"
             }
            },
            "type": "table"
           }
          ]
         },
         "layout": {
          "annotationdefaults": {
           "arrowcolor": "#2a3f5f",
           "arrowhead": 0,
           "arrowwidth": 1
          },
          "autotypenumbers": "strict",
          "coloraxis": {
           "colorbar": {
            "outlinewidth": 0,
            "ticks": ""
           }
          },
          "colorscale": {
           "diverging": [
            [
             0,
             "#8e0152"
            ],
            [
             0.1,
             "#c51b7d"
            ],
            [
             0.2,
             "#de77ae"
            ],
            [
             0.3,
             "#f1b6da"
            ],
            [
             0.4,
             "#fde0ef"
            ],
            [
             0.5,
             "#f7f7f7"
            ],
            [
             0.6,
             "#e6f5d0"
            ],
            [
             0.7,
             "#b8e186"
            ],
            [
             0.8,
             "#7fbc41"
            ],
            [
             0.9,
             "#4d9221"
            ],
            [
             1,
             "#276419"
            ]
           ],
           "sequential": [
            [
             0,
             "#0d0887"
            ],
            [
             0.1111111111111111,
             "#46039f"
            ],
            [
             0.2222222222222222,
             "#7201a8"
            ],
            [
             0.3333333333333333,
             "#9c179e"
            ],
            [
             0.4444444444444444,
             "#bd3786"
            ],
            [
             0.5555555555555556,
             "#d8576b"
            ],
            [
             0.6666666666666666,
             "#ed7953"
            ],
            [
             0.7777777777777778,
             "#fb9f3a"
            ],
            [
             0.8888888888888888,
             "#fdca26"
            ],
            [
             1,
             "#f0f921"
            ]
           ],
           "sequentialminus": [
            [
             0,
             "#0d0887"
            ],
            [
             0.1111111111111111,
             "#46039f"
            ],
            [
             0.2222222222222222,
             "#7201a8"
            ],
            [
             0.3333333333333333,
             "#9c179e"
            ],
            [
             0.4444444444444444,
             "#bd3786"
            ],
            [
             0.5555555555555556,
             "#d8576b"
            ],
            [
             0.6666666666666666,
             "#ed7953"
            ],
            [
             0.7777777777777778,
             "#fb9f3a"
            ],
            [
             0.8888888888888888,
             "#fdca26"
            ],
            [
             1,
             "#f0f921"
            ]
           ]
          },
          "colorway": [
           "#636efa",
           "#EF553B",
           "#00cc96",
           "#ab63fa",
           "#FFA15A",
           "#19d3f3",
           "#FF6692",
           "#B6E880",
           "#FF97FF",
           "#FECB52"
          ],
          "font": {
           "color": "#2a3f5f"
          },
          "geo": {
           "bgcolor": "white",
           "lakecolor": "white",
           "landcolor": "#E5ECF6",
           "showlakes": true,
           "showland": true,
           "subunitcolor": "white"
          },
          "hoverlabel": {
           "align": "left"
          },
          "hovermode": "closest",
          "mapbox": {
           "style": "light"
          },
          "paper_bgcolor": "white",
          "plot_bgcolor": "#E5ECF6",
          "polar": {
           "angularaxis": {
            "gridcolor": "white",
            "linecolor": "white",
            "ticks": ""
           },
           "bgcolor": "#E5ECF6",
           "radialaxis": {
            "gridcolor": "white",
            "linecolor": "white",
            "ticks": ""
           }
          },
          "scene": {
           "xaxis": {
            "backgroundcolor": "#E5ECF6",
            "gridcolor": "white",
            "gridwidth": 2,
            "linecolor": "white",
            "showbackground": true,
            "ticks": "",
            "zerolinecolor": "white"
           },
           "yaxis": {
            "backgroundcolor": "#E5ECF6",
            "gridcolor": "white",
            "gridwidth": 2,
            "linecolor": "white",
            "showbackground": true,
            "ticks": "",
            "zerolinecolor": "white"
           },
           "zaxis": {
            "backgroundcolor": "#E5ECF6",
            "gridcolor": "white",
            "gridwidth": 2,
            "linecolor": "white",
            "showbackground": true,
            "ticks": "",
            "zerolinecolor": "white"
           }
          },
          "shapedefaults": {
           "line": {
            "color": "#2a3f5f"
           }
          },
          "ternary": {
           "aaxis": {
            "gridcolor": "white",
            "linecolor": "white",
            "ticks": ""
           },
           "baxis": {
            "gridcolor": "white",
            "linecolor": "white",
            "ticks": ""
           },
           "bgcolor": "#E5ECF6",
           "caxis": {
            "gridcolor": "white",
            "linecolor": "white",
            "ticks": ""
           }
          },
          "title": {
           "x": 0.05
          },
          "xaxis": {
           "automargin": true,
           "gridcolor": "white",
           "linecolor": "white",
           "ticks": "",
           "title": {
            "standoff": 15
           },
           "zerolinecolor": "white",
           "zerolinewidth": 2
          },
          "yaxis": {
           "automargin": true,
           "gridcolor": "white",
           "linecolor": "white",
           "ticks": "",
           "title": {
            "standoff": 15
           },
           "zerolinecolor": "white",
           "zerolinewidth": 2
          }
         }
        },
        "title": {
         "text": "Delivery Locations for 10 items"
        }
       }
      }
     },
     "metadata": {},
     "output_type": "display_data"
    }
   ],
   "source": [
    "displayDeliveries(items)"
   ]
  }
 ],
 "metadata": {
  "kernelspec": {
   "display_name": "Python 3",
   "language": "python",
   "name": "python3"
  },
  "language_info": {
   "codemirror_mode": {
    "name": "ipython",
    "version": 3
   },
   "file_extension": ".py",
   "mimetype": "text/x-python",
   "name": "python",
   "nbconvert_exporter": "python",
   "pygments_lexer": "ipython3",
   "version": "3.9.12"
  },
  "vscode": {
   "interpreter": {
    "hash": "6066e4ca0601b025509926a8dd9e67fccfce94793723965e0ca1262e1100bf7b"
   }
  }
 },
 "nbformat": 4,
 "nbformat_minor": 2
}

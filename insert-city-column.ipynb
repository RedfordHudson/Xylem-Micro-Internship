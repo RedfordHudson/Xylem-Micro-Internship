{
 "cells": [
  {
   "cell_type": "markdown",
   "metadata": {},
   "source": [
    "INSTRUCTIONS\n",
    "\n",
    "1. open file in Jupyter Notebook\n",
    "2. put excel sheet in script directory and store name of file in \"excel_sheet\" variable\n",
    "3. install packages in terminal ('pip install requests os pandas')\n",
    "4. get API key from GCP Geocoder API (https://developers.google.com/maps/documentation/geocoding/start)\n",
    "5. store API key as environment variable w/ the name \"GM_API_KEY\"\n",
    "6. run insertCityColumn(df)"
   ]
  },
  {
   "cell_type": "code",
   "execution_count": 5,
   "metadata": {},
   "outputs": [],
   "source": [
    "excel_input = 'Romania 2017-2022.xlsx'\n",
    "excel_output = 'output.xlsx'"
   ]
  },
  {
   "cell_type": "code",
   "execution_count": 2,
   "metadata": {},
   "outputs": [],
   "source": [
    "import pandas as pd\n",
    "import os\n",
    "import requests"
   ]
  },
  {
   "cell_type": "code",
   "execution_count": 3,
   "metadata": {},
   "outputs": [],
   "source": [
    "df = pd.read_excel(excel_name)"
   ]
  },
  {
   "cell_type": "code",
   "execution_count": 4,
   "metadata": {},
   "outputs": [],
   "source": [
    "# GOOGLE CLOUD PLATFORM GEOCODER API KEY (stored as environment variable)\n",
    "API_KEY = os.environ.get('GM_API_KEY')\n",
    "base_URL = 'https://maps.googleapis.com/maps/api/geocode/json'\n",
    "\n",
    "def getLL(address):\n",
    "    params = {\n",
    "        'key': API_KEY,\n",
    "        'address': address.replace(' ','+')\n",
    "    }\n",
    "\n",
    "    response = requests.get(base_URL, params=params)\n",
    "    data = response.json()\n",
    "    if data['status'] == 'OK':\n",
    "        result = data['results'][0]\n",
    "        city = list(filter(lambda comp: 'locality' in comp['types'], result['address_components']))\n",
    "        city = city[0]['long_name'] if len(city) else None\n",
    "        return city\n",
    "    else:\n",
    "        return None"
   ]
  },
  {
   "cell_type": "code",
   "execution_count": 8,
   "metadata": {},
   "outputs": [],
   "source": [
    "def insertCityColumn(dataframe):\n",
    "    new_dataframe = dataframe.copy()\n",
    "    new_dataframe['city'] = new_dataframe['Del.Addr'].apply(lambda address: getLL(address))\n",
    "    new_dataframe.to_excel(excel_output)\n"
   ]
  },
  {
   "cell_type": "code",
   "execution_count": null,
   "metadata": {},
   "outputs": [],
   "source": [
    "# test script on first 10 entries\n",
    "insertCityColumn(df.head(10))"
   ]
  },
  {
   "cell_type": "code",
   "execution_count": 9,
   "metadata": {},
   "outputs": [],
   "source": [
    "# run script on entire excel sheet\n",
    "\n",
    "# insertCityColumn(df)"
   ]
  }
 ],
 "metadata": {
  "kernelspec": {
   "display_name": "Python 3",
   "language": "python",
   "name": "python3"
  },
  "language_info": {
   "codemirror_mode": {
    "name": "ipython",
    "version": 3
   },
   "file_extension": ".py",
   "mimetype": "text/x-python",
   "name": "python",
   "nbconvert_exporter": "python",
   "pygments_lexer": "ipython3",
   "version": "3.9.12"
  },
  "vscode": {
   "interpreter": {
    "hash": "6066e4ca0601b025509926a8dd9e67fccfce94793723965e0ca1262e1100bf7b"
   }
  }
 },
 "nbformat": 4,
 "nbformat_minor": 2
}
